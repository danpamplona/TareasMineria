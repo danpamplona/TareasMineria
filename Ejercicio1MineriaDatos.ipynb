{
  "nbformat": 4,
  "nbformat_minor": 0,
  "metadata": {
    "colab": {
      "name": "Copia de ejemplo1SyS2021.ipynb",
      "provenance": [],
      "include_colab_link": true
    },
    "kernelspec": {
      "name": "python3",
      "display_name": "Python 3"
    }
  },
  "cells": [
    {
      "cell_type": "markdown",
      "metadata": {
        "id": "view-in-github",
        "colab_type": "text"
      },
      "source": [
        "<a href=\"https://colab.research.google.com/github/danpamplona/TareasMineria/blob/main/Ejercicio1MineriaDatos.ipynb\" target=\"_parent\"><img src=\"https://colab.research.google.com/assets/colab-badge.svg\" alt=\"Open In Colab\"/></a>"
      ]
    },
    {
      "cell_type": "markdown",
      "metadata": {
        "id": "t2pmqZ1sSALd"
      },
      "source": [
        "# Introducción a la programación - Python\n",
        "\n",
        "---\n",
        "\n",
        "\n",
        "\n",
        "- ## [Librería numpy](https://numpy.org/) (señales discretas)\n",
        "\n",
        "- ## [Librería sympy](https://www.sympy.org/es/) (emular señales continuas)"
      ]
    },
    {
      "cell_type": "code",
      "metadata": {
        "colab": {
          "base_uri": "https://localhost:8080/"
        },
        "id": "US87snjyRzXO",
        "outputId": "c4aa6419-f1f4-4511-bf4f-989b0b3ea9fa"
      },
      "source": [
        "import numpy as np # importar libreria numpy\n",
        "x = 30 #tipo int\n",
        "y = 36.5 #tipo float\n",
        "#8 bits -> Byte -> 2**8=256\n",
        "#1KB -> 1024 bytes\n",
        "#1MB-> 1024 KB\n",
        "#1GB -> 1024 MB\n",
        "print(type(x),type(y)) #imprimir en pantalla"
      ],
      "execution_count": null,
      "outputs": [
        {
          "output_type": "stream",
          "name": "stdout",
          "text": [
            "<class 'int'> <class 'float'>\n"
          ]
        }
      ]
    },
    {
      "cell_type": "markdown",
      "metadata": {
        "id": "opLxJCCATLiT"
      },
      "source": [
        "# Arreglo de datos en numpy\n",
        "\n",
        "- Señales en continuo\n",
        "\n",
        "  $x(t) \\in \\mathbb{R}, \\mathbb{C}$\n",
        "\n",
        "  $t \\in \\mathbb{R}$\n",
        "\n",
        "- Señales discretas\n",
        "\n",
        "  $x[t_k] \\in \\mathbb{R}, \\mathbb{C}$  \n",
        "\n",
        "  $t \\in \\{t_0,t_1,\\dots,t_{K-1}\\}$; $K \\in \\mathbb{N}$ muestras\n",
        "\n",
        "- Señales digitales\n",
        "\n",
        "  $x[t_k] \\in \\{x_0,x_1,\\dots,x_{P-1}\\};$ $P\\in \\mathbb{N}$ estados según cantidad de bits del sistema de proceso \n",
        "\n",
        "  $t \\in \\{t_0,t_1,\\dots,t_{K-1}\\}$; $K \\in \\mathbb{N}$ muestras"
      ]
    },
    {
      "cell_type": "code",
      "metadata": {
        "colab": {
          "base_uri": "https://localhost:8080/"
        },
        "id": "_KJR2CT9St31",
        "outputId": "697ca5d2-88ac-49e7-d70c-b43e40ee7038"
      },
      "source": [
        "xv = np.array([0,-2.5,10]) #crear array tipo vector\n",
        "xv"
      ],
      "execution_count": null,
      "outputs": [
        {
          "output_type": "execute_result",
          "data": {
            "text/plain": [
              "array([ 0. , -2.5, 10. ])"
            ]
          },
          "metadata": {},
          "execution_count": 2
        }
      ]
    },
    {
      "cell_type": "markdown",
      "metadata": {
        "id": "O59ypEVJYA7I"
      },
      "source": [
        "# Listas vs numpy array\n",
        "\n",
        "- Las listas pueden contener, números, strings, y en general objetos\n",
        "\n",
        "- Los array de numpy están pensados para procesar números (matrices, tensores)."
      ]
    },
    {
      "cell_type": "code",
      "metadata": {
        "colab": {
          "base_uri": "https://localhost:8080/"
        },
        "id": "rE08MvyIWHYQ",
        "outputId": "c830814e-5dc1-42ec-bd23-5cbfa4163e13"
      },
      "source": [
        "xl = [0,-2,0.5] # no es señal digital -> lista de números\n",
        "xl"
      ],
      "execution_count": null,
      "outputs": [
        {
          "output_type": "execute_result",
          "data": {
            "text/plain": [
              "[0, -2, 0.5]"
            ]
          },
          "metadata": {},
          "execution_count": 3
        }
      ]
    },
    {
      "cell_type": "code",
      "metadata": {
        "colab": {
          "base_uri": "https://localhost:8080/"
        },
        "id": "tyZsVf7OYS5-",
        "outputId": "223d51c5-523b-4d3a-e991-64d516579c7e"
      },
      "source": [
        "xl = ['andres marino',0.5, 2] #lista de tres elementos con un string, un flotante y un entero\n",
        "xl"
      ],
      "execution_count": null,
      "outputs": [
        {
          "output_type": "execute_result",
          "data": {
            "text/plain": [
              "['andres marino', 0.5, 2]"
            ]
          },
          "metadata": {},
          "execution_count": 5
        }
      ]
    },
    {
      "cell_type": "markdown",
      "metadata": {
        "id": "vBsDHcmiZvGi"
      },
      "source": [
        "# Tamaños, indexación y graficar numpy array"
      ]
    },
    {
      "cell_type": "code",
      "metadata": {
        "colab": {
          "base_uri": "https://localhost:8080/"
        },
        "id": "8btm8xBUaLub",
        "outputId": "ae4b99a8-2ae9-4441-9a09-a358ca9ad146"
      },
      "source": [
        "xv.shape # vector con 3 elementos - > shape retorna la forma (tamaño del arreglo)"
      ],
      "execution_count": null,
      "outputs": [
        {
          "output_type": "execute_result",
          "data": {
            "text/plain": [
              "(3,)"
            ]
          },
          "metadata": {},
          "execution_count": 4
        }
      ]
    },
    {
      "cell_type": "code",
      "metadata": {
        "colab": {
          "base_uri": "https://localhost:8080/"
        },
        "id": "f0nctnPlb93K",
        "outputId": "651e32bd-8e7f-46d5-f28e-c37c8b5735fe"
      },
      "source": [
        "xm = np.array([[0,-2.5,10,4],[6,47,70,2],[8,10.2,-698,-0.9]]) #cada lista de números es tratada como una fila de la matriz\n",
        "xm"
      ],
      "execution_count": null,
      "outputs": [
        {
          "output_type": "execute_result",
          "data": {
            "text/plain": [
              "array([[   0. ,   -2.5,   10. ,    4. ],\n",
              "       [   6. ,   47. ,   70. ,    2. ],\n",
              "       [   8. ,   10.2, -698. ,   -0.9]])"
            ]
          },
          "metadata": {},
          "execution_count": 5
        }
      ]
    },
    {
      "cell_type": "code",
      "metadata": {
        "colab": {
          "base_uri": "https://localhost:8080/"
        },
        "id": "kTB4wdKtcRgr",
        "outputId": "c98c22dd-d04e-4f40-fc4b-ec0be7b81f60"
      },
      "source": [
        "xm.shape"
      ],
      "execution_count": null,
      "outputs": [
        {
          "output_type": "execute_result",
          "data": {
            "text/plain": [
              "(3, 4)"
            ]
          },
          "metadata": {},
          "execution_count": 6
        }
      ]
    },
    {
      "cell_type": "markdown",
      "metadata": {
        "id": "ukUay7mOct5q"
      },
      "source": [
        "# En python se indexa desde 0"
      ]
    },
    {
      "cell_type": "code",
      "metadata": {
        "colab": {
          "base_uri": "https://localhost:8080/"
        },
        "id": "UnagirzXeKcP",
        "outputId": "22206e06-42a8-491d-c9b2-bc12d87897cd"
      },
      "source": [
        "xv = np.array([-6,5,4.2,3,8,50,16])\n",
        "print(xv,xv.shape,xv[0])"
      ],
      "execution_count": null,
      "outputs": [
        {
          "output_type": "stream",
          "name": "stdout",
          "text": [
            "[-6.   5.   4.2  3.   8.  50.  16. ] (7,) -6.0\n"
          ]
        }
      ]
    },
    {
      "cell_type": "markdown",
      "metadata": {
        "id": "mpXNvhqrew-i"
      },
      "source": [
        "# En Python, cuando se indexa por rangos de valores, no se incluye el último elemento\n",
        "\n",
        "x[t_i,t_f)"
      ]
    },
    {
      "cell_type": "code",
      "metadata": {
        "colab": {
          "base_uri": "https://localhost:8080/"
        },
        "id": "W6f019owchUo",
        "outputId": "b21b5545-9470-4af2-ea2e-4a728e8d4505"
      },
      "source": [
        "xv[1:5] # x[t_0] # no se incluye el elemento 5 que equivale a x[5] = 50"
      ],
      "execution_count": null,
      "outputs": [
        {
          "output_type": "execute_result",
          "data": {
            "text/plain": [
              "array([5. , 4.2, 3. , 8. ])"
            ]
          },
          "metadata": {},
          "execution_count": 8
        }
      ]
    },
    {
      "cell_type": "markdown",
      "metadata": {
        "id": "c_ppeaIJeDdY"
      },
      "source": [
        "*Cuando se piden todos los elementos hasta el final con el operador : si se incluye el último elemento*"
      ]
    },
    {
      "cell_type": "code",
      "metadata": {
        "colab": {
          "base_uri": "https://localhost:8080/"
        },
        "id": "Oj-ACwsSd44Z",
        "outputId": "6adff2e0-475d-4384-a9d1-9b3dddbd63cb"
      },
      "source": [
        "# desde el segundo elemento hasta el ultimo\n",
        "print(xv)\n",
        "print(xv[1:])"
      ],
      "execution_count": null,
      "outputs": [
        {
          "output_type": "stream",
          "name": "stdout",
          "text": [
            "[-6.   5.   4.2  3.   8.  50.  16. ]\n",
            "[ 5.   4.2  3.   8.  50.  16. ]\n"
          ]
        }
      ]
    },
    {
      "cell_type": "code",
      "metadata": {
        "colab": {
          "base_uri": "https://localhost:8080/"
        },
        "id": "x4rDjGH9fikT",
        "outputId": "a0aad2cd-a340-4db6-a2c4-82248063e818"
      },
      "source": [
        "#desde antes del tercer elmento hasta el principio\n",
        "print(xv)\n",
        "print(xv[:3])"
      ],
      "execution_count": null,
      "outputs": [
        {
          "output_type": "stream",
          "name": "stdout",
          "text": [
            "[-6.   5.   4.2  3.   8.  50.  16. ]\n",
            "[-6.   5.   4.2]\n"
          ]
        }
      ]
    },
    {
      "cell_type": "markdown",
      "metadata": {
        "id": "oRd9B5TBeZAD"
      },
      "source": [
        "# Para matrices se extiende la misma sintaxis para indexar vectores, pero separando la indexación por filas y por columnas"
      ]
    },
    {
      "cell_type": "code",
      "metadata": {
        "colab": {
          "base_uri": "https://localhost:8080/"
        },
        "id": "FNdwQZHvfwKo",
        "outputId": "a8750309-a6f9-477e-82f7-19451a217a79"
      },
      "source": [
        "print(xm)"
      ],
      "execution_count": null,
      "outputs": [
        {
          "output_type": "stream",
          "name": "stdout",
          "text": [
            "[[   0.    -2.5   10.     4. ]\n",
            " [   6.    47.    70.     2. ]\n",
            " [   8.    10.2 -698.    -0.9]]\n"
          ]
        }
      ]
    },
    {
      "cell_type": "code",
      "metadata": {
        "colab": {
          "base_uri": "https://localhost:8080/"
        },
        "id": "62ny4ZlRf9cq",
        "outputId": "7f5e496f-dcfe-4644-c042-9410f4923ae9"
      },
      "source": [
        "xm[0:2,:2]"
      ],
      "execution_count": null,
      "outputs": [
        {
          "output_type": "execute_result",
          "data": {
            "text/plain": [
              "array([[ 0. , -2.5],\n",
              "       [ 6. , 47. ]])"
            ]
          },
          "metadata": {},
          "execution_count": 12
        }
      ]
    },
    {
      "cell_type": "code",
      "metadata": {
        "colab": {
          "base_uri": "https://localhost:8080/"
        },
        "id": "5pPPj3S6gIR2",
        "outputId": "44b1680a-4ca6-487d-ec74-e445824eaa9f"
      },
      "source": [
        "xm[0:2,0]"
      ],
      "execution_count": null,
      "outputs": [
        {
          "output_type": "execute_result",
          "data": {
            "text/plain": [
              "array([0., 6.])"
            ]
          },
          "metadata": {},
          "execution_count": 13
        }
      ]
    },
    {
      "cell_type": "code",
      "metadata": {
        "colab": {
          "base_uri": "https://localhost:8080/"
        },
        "id": "vfJ5mxXDhurG",
        "outputId": "071e78d5-8eeb-468a-d08f-fa445dce7e11"
      },
      "source": [
        "xm[0,1:]"
      ],
      "execution_count": null,
      "outputs": [
        {
          "output_type": "execute_result",
          "data": {
            "text/plain": [
              "array([-2.5, 10. ,  4. ])"
            ]
          },
          "metadata": {},
          "execution_count": 14
        }
      ]
    },
    {
      "cell_type": "code",
      "metadata": {
        "colab": {
          "base_uri": "https://localhost:8080/"
        },
        "id": "EWX_gP3rh9Y3",
        "outputId": "5b80904c-e7e8-4a56-dda9-a03891bd71f0"
      },
      "source": [
        "np.diag(xm)#diagonal del arreglo (matriz)"
      ],
      "execution_count": null,
      "outputs": [
        {
          "output_type": "execute_result",
          "data": {
            "text/plain": [
              "array([   0.,   47., -698.])"
            ]
          },
          "metadata": {},
          "execution_count": 15
        }
      ]
    },
    {
      "cell_type": "markdown",
      "metadata": {
        "id": "3fg6DJ5ViZBI"
      },
      "source": [
        "# Simular cero y pendiente  para acondicionamiento de señales\n",
        "\n",
        "- Se generará una función para emular el proceso de cero y pendiente en el acondicionamiento de señales.\n",
        "\n",
        "- Las funciones principales para generar vectores equiespaciados son [linspace](https://numpy.org/doc/stable/reference/generated/numpy.linspace.html), [range](https://www.w3schools.com/python/ref_func_range.asp) y [arange](https://numpy.org/doc/stable/reference/generated/numpy.arange.html)"
      ]
    },
    {
      "cell_type": "code",
      "metadata": {
        "colab": {
          "base_uri": "https://localhost:8080/"
        },
        "id": "QrjarvjViPOB",
        "outputId": "b71923a0-23ca-41ed-bdf7-4c571c2046d3"
      },
      "source": [
        "# crear vector tiempo por rango y por número de muestras\n",
        "K = 200 # número de muestras\n",
        "ti = -15 # tiempo incial referencia [s]\n",
        "tf = 10 # tieimpo final  [s]\n",
        "# vector de tiempo equiespacioado\n",
        "tv = np.linspace(start=ti,stop=tf,num=K)\n",
        "print(tv)\n",
        "print(tv.shape)\n",
        "# tiempo muestreo se define según el rango de trabajo en segundos y la cantidad de muestras\n",
        "Ts = (tf - ti)/K\n",
        "print(Ts)"
      ],
      "execution_count": null,
      "outputs": [
        {
          "output_type": "stream",
          "name": "stdout",
          "text": [
            "[-15.         -14.87437186 -14.74874372 -14.62311558 -14.49748744\n",
            " -14.3718593  -14.24623116 -14.12060302 -13.99497487 -13.86934673\n",
            " -13.74371859 -13.61809045 -13.49246231 -13.36683417 -13.24120603\n",
            " -13.11557789 -12.98994975 -12.86432161 -12.73869347 -12.61306533\n",
            " -12.48743719 -12.36180905 -12.2361809  -12.11055276 -11.98492462\n",
            " -11.85929648 -11.73366834 -11.6080402  -11.48241206 -11.35678392\n",
            " -11.23115578 -11.10552764 -10.9798995  -10.85427136 -10.72864322\n",
            " -10.60301508 -10.47738693 -10.35175879 -10.22613065 -10.10050251\n",
            "  -9.97487437  -9.84924623  -9.72361809  -9.59798995  -9.47236181\n",
            "  -9.34673367  -9.22110553  -9.09547739  -8.96984925  -8.84422111\n",
            "  -8.71859296  -8.59296482  -8.46733668  -8.34170854  -8.2160804\n",
            "  -8.09045226  -7.96482412  -7.83919598  -7.71356784  -7.5879397\n",
            "  -7.46231156  -7.33668342  -7.21105528  -7.08542714  -6.95979899\n",
            "  -6.83417085  -6.70854271  -6.58291457  -6.45728643  -6.33165829\n",
            "  -6.20603015  -6.08040201  -5.95477387  -5.82914573  -5.70351759\n",
            "  -5.57788945  -5.45226131  -5.32663317  -5.20100503  -5.07537688\n",
            "  -4.94974874  -4.8241206   -4.69849246  -4.57286432  -4.44723618\n",
            "  -4.32160804  -4.1959799   -4.07035176  -3.94472362  -3.81909548\n",
            "  -3.69346734  -3.5678392   -3.44221106  -3.31658291  -3.19095477\n",
            "  -3.06532663  -2.93969849  -2.81407035  -2.68844221  -2.56281407\n",
            "  -2.43718593  -2.31155779  -2.18592965  -2.06030151  -1.93467337\n",
            "  -1.80904523  -1.68341709  -1.55778894  -1.4321608   -1.30653266\n",
            "  -1.18090452  -1.05527638  -0.92964824  -0.8040201   -0.67839196\n",
            "  -0.55276382  -0.42713568  -0.30150754  -0.1758794   -0.05025126\n",
            "   0.07537688   0.20100503   0.32663317   0.45226131   0.57788945\n",
            "   0.70351759   0.82914573   0.95477387   1.08040201   1.20603015\n",
            "   1.33165829   1.45728643   1.58291457   1.70854271   1.83417085\n",
            "   1.95979899   2.08542714   2.21105528   2.33668342   2.46231156\n",
            "   2.5879397    2.71356784   2.83919598   2.96482412   3.09045226\n",
            "   3.2160804    3.34170854   3.46733668   3.59296482   3.71859296\n",
            "   3.84422111   3.96984925   4.09547739   4.22110553   4.34673367\n",
            "   4.47236181   4.59798995   4.72361809   4.84924623   4.97487437\n",
            "   5.10050251   5.22613065   5.35175879   5.47738693   5.60301508\n",
            "   5.72864322   5.85427136   5.9798995    6.10552764   6.23115578\n",
            "   6.35678392   6.48241206   6.6080402    6.73366834   6.85929648\n",
            "   6.98492462   7.11055276   7.2361809    7.36180905   7.48743719\n",
            "   7.61306533   7.73869347   7.86432161   7.98994975   8.11557789\n",
            "   8.24120603   8.36683417   8.49246231   8.61809045   8.74371859\n",
            "   8.86934673   8.99497487   9.12060302   9.24623116   9.3718593\n",
            "   9.49748744   9.62311558   9.74874372   9.87437186  10.        ]\n",
            "(200,)\n",
            "0.125\n"
          ]
        }
      ]
    },
    {
      "cell_type": "markdown",
      "metadata": {
        "id": "BDLYDuPdkyZE"
      },
      "source": [
        "- Supongamos la función cuadrática:\n",
        "\n",
        "$x(t) = a t^2 + b;$ \n",
        "\n",
        "$\\forall t \\in [t_i,t_f]$\n",
        "\n",
        "- Se pretende generar el proceso de discretización según: \n",
        "\n",
        "$x[t_k] = a t_k^2 + b$\n",
        "\n",
        "\n",
        "\n"
      ]
    },
    {
      "cell_type": "code",
      "metadata": {
        "colab": {
          "base_uri": "https://localhost:8080/"
        },
        "id": "4LzvHXKeiwwE",
        "outputId": "34e25161-ec02-4d78-a742-4696ba36a683"
      },
      "source": [
        "#parámetros parabola\n",
        "a = 4  \n",
        "b = -3\n",
        "xv = a*(tv**2) + b # creamos parabola en tiempo discreto-> **  pontencia\n",
        "print(xv)\n",
        "print(xv.shape)"
      ],
      "execution_count": null,
      "outputs": [
        {
          "output_type": "stream",
          "name": "stdout",
          "text": [
            "[ 8.97000000e+02  8.81987753e+02  8.67101765e+02  8.52342037e+02\n",
            "  8.37708568e+02  8.23201359e+02  8.08820409e+02  7.94565718e+02\n",
            "  7.80437287e+02  7.66435115e+02  7.52559203e+02  7.38809550e+02\n",
            "  7.25186157e+02  7.11689023e+02  6.98318149e+02  6.85073533e+02\n",
            "  6.71955178e+02  6.58963082e+02  6.46097245e+02  6.33357668e+02\n",
            "  6.20744350e+02  6.08257291e+02  5.95896493e+02  5.83661953e+02\n",
            "  5.71553673e+02  5.59571652e+02  5.47715891e+02  5.35986389e+02\n",
            "  5.24383147e+02  5.12906164e+02  5.01555441e+02  4.90330976e+02\n",
            "  4.79232772e+02  4.68260827e+02  4.57415141e+02  4.46695715e+02\n",
            "  4.36102548e+02  4.25635641e+02  4.15294993e+02  4.05080604e+02\n",
            "  3.94992475e+02  3.85030605e+02  3.75194995e+02  3.65485644e+02\n",
            "  3.55902553e+02  3.46445721e+02  3.37115149e+02  3.27910836e+02\n",
            "  3.18832782e+02  3.09880988e+02  3.01055453e+02  2.92356178e+02\n",
            "  2.83783162e+02  2.75336406e+02  2.67015909e+02  2.58821671e+02\n",
            "  2.50753693e+02  2.42811974e+02  2.34996515e+02  2.27307315e+02\n",
            "  2.19744375e+02  2.12307694e+02  2.04997273e+02  1.97813111e+02\n",
            "  1.90755208e+02  1.83823565e+02  1.77018181e+02  1.70339057e+02\n",
            "  1.63786192e+02  1.57359587e+02  1.51059241e+02  1.44885154e+02\n",
            "  1.38837327e+02  1.32915760e+02  1.27120452e+02  1.21451403e+02\n",
            "  1.15908613e+02  1.10492084e+02  1.05201813e+02  1.00037802e+02\n",
            "  9.50000505e+01  9.00885584e+01  8.53033257e+01  8.06443524e+01\n",
            "  7.61116386e+01  7.17051842e+01  6.74249893e+01  6.32710538e+01\n",
            "  5.92433777e+01  5.53419611e+01  5.15668039e+01  4.79179061e+01\n",
            "  4.43952678e+01  4.09988889e+01  3.77287695e+01  3.45849095e+01\n",
            "  3.15673089e+01  2.86759678e+01  2.59108861e+01  2.32720638e+01\n",
            "  2.07595010e+01  1.83731976e+01  1.61131537e+01  1.39793692e+01\n",
            "  1.19718441e+01  1.00905785e+01  8.33557233e+00  6.70682559e+00\n",
            "  5.20433827e+00  3.82811040e+00  2.57814197e+00  1.45443297e+00\n",
            "  4.56983410e-01 -4.14206712e-01 -1.15913740e+00 -1.77780864e+00\n",
            " -2.27022045e+00 -2.63637282e+00 -2.87626575e+00 -2.98989924e+00\n",
            " -2.97727330e+00 -2.83838792e+00 -2.57324310e+00 -2.18183884e+00\n",
            " -1.66417515e+00 -1.02025201e+00 -2.50069443e-01  6.46372566e-01\n",
            "  1.66907401e+00  2.81803490e+00  4.09325522e+00  5.49473498e+00\n",
            "  7.02247418e+00  8.67647282e+00  1.04567309e+01  1.23632484e+01\n",
            "  1.43960254e+01  1.65550617e+01  1.88403576e+01  2.12519128e+01\n",
            "  2.37897275e+01  2.64538017e+01  2.92441352e+01  3.21607283e+01\n",
            "  3.52035807e+01  3.83726926e+01  4.16680639e+01  4.50896947e+01\n",
            "  4.86375849e+01  5.23117346e+01  5.61121436e+01  6.00388122e+01\n",
            "  6.40917401e+01  6.82709275e+01  7.25763743e+01  7.70080806e+01\n",
            "  8.15660463e+01  8.62502715e+01  9.10607560e+01  9.59975001e+01\n",
            "  1.01060504e+02  1.06249766e+02  1.11565289e+02  1.17007071e+02\n",
            "  1.22575112e+02  1.28269412e+02  1.34089972e+02  1.40036792e+02\n",
            "  1.46109871e+02  1.52309209e+02  1.58634807e+02  1.65086664e+02\n",
            "  1.71664781e+02  1.78369157e+02  1.85199793e+02  1.92156688e+02\n",
            "  1.99239842e+02  2.06449256e+02  2.13784930e+02  2.21246862e+02\n",
            "  2.28835055e+02  2.36549506e+02  2.44390217e+02  2.52357188e+02\n",
            "  2.60450418e+02  2.68669907e+02  2.77015656e+02  2.85487664e+02\n",
            "  2.94085932e+02  3.02810459e+02  3.11661246e+02  3.20638292e+02\n",
            "  3.29741597e+02  3.38971162e+02  3.48326987e+02  3.57809070e+02\n",
            "  3.67417414e+02  3.77152016e+02  3.87012878e+02  3.97000000e+02]\n",
            "(200,)\n"
          ]
        }
      ]
    },
    {
      "cell_type": "code",
      "metadata": {
        "colab": {
          "base_uri": "https://localhost:8080/",
          "height": 279
        },
        "id": "CikgadYnljWq",
        "outputId": "2e64bee3-e189-4366-da69-9247f10f9cbf"
      },
      "source": [
        "import matplotlib.pyplot as plt #librería para gráficas básicas en python\n",
        "\n",
        "plt.plot(tv,xv,'r.') #vector en eje horizontal, vector eje vertical, color y marcador\n",
        "plt.xlabel('tiempo [s]')\n",
        "plt.ylabel('$x[t_k]$') # $ $ ecuación latex\n",
        "plt.show() #mostrar gráfica"
      ],
      "execution_count": null,
      "outputs": [
        {
          "output_type": "display_data",
          "data": {
            "image/png": "[encoded data removed]",
            "text/plain": [
              "<Figure size 432x288 with 1 Axes>"
            ]
          },
          "metadata": {
            "needs_background": "light"
          }
        }
      ]
    },
    {
      "cell_type": "markdown",
      "metadata": {
        "id": "W46sUb3AGP81"
      },
      "source": [
        "## Cálculo de pendiente y del offset (cero)\n",
        "\n",
        "$$ y[t_k] \\in [y_{min},y_{max}]$$\n",
        "\n",
        "$$y[t_k] = m x[t_k] + c$$\n",
        "\n",
        "$$m = \\frac{y_{max}-y_{min}}{x_{max}-x_{min}}$$\n",
        "\n",
        "$$c = y[t_k] - m x[t_k]$$\n",
        "\n",
        "- Se crea un código tipo función bajo el ambiente def, para generar el cero y pendiente según los valores $y_{max}$ y $y_{min}$ definidos por el usuario."
      ]
    },
    {
      "cell_type": "code",
      "metadata": {
        "id": "ozcRD-a1mlcf"
      },
      "source": [
        "y_min = 0 # valor min después de cero y pendiente\n",
        "y_max = 5 # valor max después de cero y pendiente\n",
        "#crear funcion en python\n",
        "def my_ceropen(x,ymin = -5, ymax = 5): #en general se pueden definir valores por defecto \n",
        "  '''\n",
        "  Codigo base para simular proceso de cero y pendiente\n",
        "  Se ingresa arreglo de numpy y los valores min  y max despues de cero y pendiente\n",
        "  '''\n",
        "  xmax = max(x) # x.max()\n",
        "  xmin = min(x) # x.min()\n",
        "  m = (ymax - ymin)/(xmax - xmin)\n",
        "  c = ymin - m*xmin\n",
        "  yv = m*x + c\n",
        "  return yv "
      ],
      "execution_count": null,
      "outputs": []
    },
    {
      "cell_type": "code",
      "metadata": {
        "id": "VePiF__hKrsp"
      },
      "source": [
        "yv = my_ceropen(xv,ymin=-15,ymax=20) #se llama la función definida en la celda anterior"
      ],
      "execution_count": null,
      "outputs": []
    },
    {
      "cell_type": "code",
      "metadata": {
        "colab": {
          "base_uri": "https://localhost:8080/"
        },
        "id": "S3GcTF_hKQ-R",
        "outputId": "6a9c5222-ca48-4363-b2ca-75f150d1e60b"
      },
      "source": [
        "print(yv)\n",
        "print(yv.shape)"
      ],
      "execution_count": null,
      "outputs": [
        {
          "output_type": "stream",
          "name": "stdout",
          "text": [
            "[  2.5          2.72034746   2.94065998   3.16090264   3.38104052\n",
            "   3.60103871   3.82086234   4.04047655   4.25984653   4.47893749\n",
            "   4.6977147    4.91614347   5.13418918   5.35181725   5.56899317\n",
            "   5.78568252   6.00185095   6.21746417   6.43248801   6.64688836\n",
            "   6.86063126   7.07368279   7.28600919   7.49757679   7.70835204\n",
            "   7.91830154   8.127392     8.33559026   8.54286331   8.7491783\n",
            "   8.95450251   9.15880339   9.36204855   9.56420577   9.76524299\n",
            "   9.96512834  10.16383013  10.36131686  10.55755721  10.75252008\n",
            "  10.94617455  11.13848992  11.32943571  11.51898162  11.70709762\n",
            "  11.89375389  12.07892081  12.26256905  12.44466948  12.62519323\n",
            "  12.80411168  12.98139646  13.15701947  13.33095286  13.50316905\n",
            "  13.67364075  13.84234092  14.00924281  14.17431997  14.33754623\n",
            "  14.4988957   14.6583428   14.81586226  14.9714291   15.12501865\n",
            "  15.27660657  15.42616882  15.57368169  15.71912179  15.86246606\n",
            "  16.00369178  16.14277655  16.27969833  16.41443541  16.54696642\n",
            "  16.67727035  16.80532654  16.93111469  17.05461486  17.17580747\n",
            "  17.2946733   17.4111935   17.52534961  17.63712352  17.74649752\n",
            "  17.85345425  17.95797678  18.06004851  18.15965328  18.25677528\n",
            "  18.35139912  18.4435098   18.53309272  18.62013367  18.70461884\n",
            "  18.78653486  18.86586872  18.94260786  19.01674009  19.08825369\n",
            "  19.15713729  19.22337998  19.28697127  19.34790106  19.4061597\n",
            "  19.46173795  19.514627    19.56481847  19.61230439  19.65707723\n",
            "  19.69912991  19.73845575  19.77504851  19.8089024   19.84001205\n",
            "  19.86837252  19.89397932  19.9168284   19.93691611  19.95423929\n",
            "  19.96879519  19.98058149  19.98959633  19.99583829  19.99930636\n",
            "  20.          19.9979191   19.99306399  19.98543545  19.97503467\n",
            "  19.96186331  19.94592345  19.92721763  19.90574881  19.8815204\n",
            "  19.85453622  19.82480057  19.79231816  19.75709414  19.71913408\n",
            "  19.67844402  19.6350304   19.5889001   19.54006044  19.48851916\n",
            "  19.43428444  19.37736486  19.31776947  19.25550769  19.19058942\n",
            "  19.12302493  19.05282494  18.98000058  18.9045634   18.82652535\n",
            "  18.74589882  18.66269657  18.57693181  18.48861813  18.39776953\n",
            "  18.30440042  18.20852559  18.11016026  18.00932001  17.90602084\n",
            "  17.80027911  17.6921116   17.58153546  17.46856821  17.35322777\n",
            "  17.23553242  17.11550082  16.99315201  16.86850537  16.74158069\n",
            "  16.61239806  16.48097799  16.3473413   16.21150918  16.07350317\n",
            "  15.93334515  15.79105733  15.64666229  15.5001829   15.3516424\n",
            "  15.20106433  15.04847257  14.89389131  14.73734506  14.57885864\n",
            "  14.41845717  14.25616609  14.09201113  13.92601831  13.75821395\n",
            "  13.58862466  13.41727732  13.24419909  13.06941743  12.89296004\n",
            "  12.71485489  12.53513023  12.35381455  12.17093659  11.98652536\n",
            "  11.80061008  11.61322023  11.42438553  11.23413591  11.04250154\n",
            "  10.84951279  10.65520027  10.45959478  10.26272734  10.06462915\n",
            "   9.86533163   9.66486637   9.46326516   9.26055995   9.05678289\n",
            "   8.85196629   8.64614261   8.43934449   8.23160472   8.02295623\n",
            "   7.8134321    7.60306555   7.39188994   7.17993874   6.96724556\n",
            "   6.75384411   6.53976825   6.32505189   6.1097291    5.893834\n",
            "   5.67740082   5.46046388   5.24305758   5.02521637   4.80697481\n",
            "   4.58836748   4.36942906   4.15019424   3.9306978    3.71097453\n",
            "   3.49105926   3.27098686   3.05079223   2.83051027   2.61017591\n",
            "   2.38982409   2.16948973   1.94920777   1.72901314   1.50894074\n",
            "   1.28902547   1.0693022    0.84980576   0.63057094   0.41163252\n",
            "   0.19302519  -0.02521637  -0.24305758  -0.46046388  -0.67740082\n",
            "  -0.893834    -1.1097291   -1.32505189  -1.53976825  -1.75384411\n",
            "  -1.96724556  -2.17993874  -2.39188994  -2.60306555  -2.8134321\n",
            "  -3.02295623  -3.23160472  -3.43934449  -3.64614261  -3.85196629\n",
            "  -4.05678289  -4.26055995  -4.46326516  -4.66486637  -4.86533163\n",
            "  -5.06462915  -5.26272734  -5.45959478  -5.65520027  -5.84951279\n",
            "  -6.04250154  -6.23413591  -6.42438553  -6.61322023  -6.80061008\n",
            "  -6.98652536  -7.17093659  -7.35381455  -7.53513023  -7.71485489\n",
            "  -7.89296004  -8.06941743  -8.24419909  -8.41727732  -8.58862466\n",
            "  -8.75821395  -8.92601831  -9.09201113  -9.25616609  -9.41845717\n",
            "  -9.57885864  -9.73734506  -9.89389131 -10.04847257 -10.20106433\n",
            " -10.3516424  -10.5001829  -10.64666229 -10.79105733 -10.93334515\n",
            " -11.07350317 -11.21150918 -11.3473413  -11.48097799 -11.61239806\n",
            " -11.74158069 -11.86850537 -11.99315201 -12.11550082 -12.23553242\n",
            " -12.35322777 -12.46856821 -12.58153546 -12.6921116  -12.80027911\n",
            " -12.90602084 -13.00932001 -13.11016026 -13.20852559 -13.30440042\n",
            " -13.39776953 -13.48861813 -13.57693181 -13.66269657 -13.74589882\n",
            " -13.82652535 -13.9045634  -13.98000058 -14.05282494 -14.12302493\n",
            " -14.19058942 -14.25550769 -14.31776947 -14.37736486 -14.43428444\n",
            " -14.48851916 -14.54006044 -14.5889001  -14.6350304  -14.67844402\n",
            " -14.71913408 -14.75709414 -14.79231816 -14.82480057 -14.85453622\n",
            " -14.8815204  -14.90574881 -14.92721763 -14.94592345 -14.96186331\n",
            " -14.97503467 -14.98543545 -14.99306399 -14.9979191  -15.\n",
            " -14.99930636 -14.99583829 -14.98959633 -14.98058149 -14.96879519\n",
            " -14.95423929 -14.93691611 -14.9168284  -14.89397932 -14.86837252\n",
            " -14.84001205 -14.8089024  -14.77504851 -14.73845575 -14.69912991\n",
            " -14.65707723 -14.61230439 -14.56481847 -14.514627   -14.46173795\n",
            " -14.4061597  -14.34790106 -14.28697127 -14.22337998 -14.15713729\n",
            " -14.08825369 -14.01674009 -13.94260786 -13.86586872 -13.78653486\n",
            " -13.70461884 -13.62013367 -13.53309272 -13.4435098  -13.35139912\n",
            " -13.25677528 -13.15965328 -13.06004851 -12.95797678 -12.85345425\n",
            " -12.74649752 -12.63712352 -12.52534961 -12.4111935  -12.2946733\n",
            " -12.17580747 -12.05461486 -11.93111469 -11.80532654 -11.67727035\n",
            " -11.54696642 -11.41443541 -11.27969833 -11.14277655 -11.00369178\n",
            " -10.86246606 -10.71912179 -10.57368169 -10.42616882 -10.27660657\n",
            " -10.12501865  -9.9714291   -9.81586226  -9.6583428   -9.4988957\n",
            "  -9.33754623  -9.17431997  -9.00924281  -8.84234092  -8.67364075\n",
            "  -8.50316905  -8.33095286  -8.15701947  -7.98139646  -7.80411168\n",
            "  -7.62519323  -7.44466948  -7.26256905  -7.07892081  -6.89375389\n",
            "  -6.70709762  -6.51898162  -6.32943571  -6.13848992  -5.94617455\n",
            "  -5.75252008  -5.55755721  -5.36131686  -5.16383013  -4.96512834\n",
            "  -4.76524299  -4.56420577  -4.36204855  -4.15880339  -3.95450251\n",
            "  -3.7491783   -3.54286331  -3.33559026  -3.127392    -2.91830154\n",
            "  -2.70835204  -2.49757679  -2.28600919  -2.07368279  -1.86063126\n",
            "  -1.64688836  -1.43248801  -1.21746417  -1.00185095  -0.78568252\n",
            "  -0.56899317  -0.35181725  -0.13418918   0.08385653   0.3022853\n",
            "   0.52106251   0.74015347   0.95952345   1.17913766   1.39896129\n",
            "   1.61895948   1.83909736   2.05934002   2.27965254   2.5       ]\n",
            "(500,)\n"
          ]
        }
      ]
    },
    {
      "cell_type": "markdown",
      "metadata": {
        "id": "ivhBguGggNta"
      },
      "source": [
        "- Se grafican la señal original y la señal acondicionada mediante [subplot](https://matplotlib.org/stable/api/_as_gen/matplotlib.pyplot.subplot.html)"
      ]
    },
    {
      "cell_type": "code",
      "metadata": {
        "colab": {
          "base_uri": "https://localhost:8080/",
          "height": 279
        },
        "id": "NasBtR71LtRO",
        "outputId": "787ca7d1-fa4d-45e5-99ce-92a448ab59fc"
      },
      "source": [
        "plt.subplot(121) # 1 = #filas, 2 = #columnas, 1 = # dibujo\n",
        "plt.plot(tv,xv,'r.')\n",
        "plt.xlabel('tiempo [s]')\n",
        "plt.ylabel('$x[t_k]$')\n",
        "\n",
        "plt.subplot(122)\n",
        "plt.plot(tv,yv,'b.')\n",
        "plt.xlabel('tiempo [s]')\n",
        "plt.ylabel('$y[t_k]$')\n",
        "plt.subplots_adjust(hspace=0.5,wspace=0.5) #ajustar espaciado entre gráficas\n",
        "plt.show()"
      ],
      "execution_count": null,
      "outputs": [
        {
          "output_type": "display_data",
          "data": {
            "image/png": "[encoded data removed]",
            "text/plain": [
              "<Figure size 432x288 with 2 Axes>"
            ]
          },
          "metadata": {
            "needs_background": "light"
          }
        }
      ]
    },
    {
      "cell_type": "code",
      "metadata": {
        "colab": {
          "base_uri": "https://localhost:8080/",
          "height": 296
        },
        "id": "Bjy3fBQYQHAH",
        "outputId": "c5ec5b7e-3133-40a6-8053-8bce285451fa"
      },
      "source": [
        "plt.plot(tv,xv,'r.')\n",
        "plt.xlabel('tiempo [s]')\n",
        "plt.ylabel('$x[t_k]$')"
      ],
      "execution_count": null,
      "outputs": [
        {
          "output_type": "execute_result",
          "data": {
            "text/plain": [
              "Text(0, 0.5, '$x[t_k]$')"
            ]
          },
          "metadata": {},
          "execution_count": 38
        },
        {
          "output_type": "display_data",
          "data": {
            "image/png": "[encoded data removed]",
            "text/plain": [
              "<Figure size 432x288 with 1 Axes>"
            ]
          },
          "metadata": {
            "needs_background": "light"
          }
        }
      ]
    },
    {
      "cell_type": "code",
      "metadata": {
        "id": "XrYen-2PSNEm",
        "colab": {
          "base_uri": "https://localhost:8080/",
          "height": 296
        },
        "outputId": "0438ee05-570f-4bdf-b58e-a468b3d42a5f"
      },
      "source": [
        "plt.plot(tv,yv,'b.')\n",
        "plt.xlabel('tiempo [s]')\n",
        "plt.ylabel('$y[t_k]$')"
      ],
      "execution_count": null,
      "outputs": [
        {
          "output_type": "execute_result",
          "data": {
            "text/plain": [
              "Text(0, 0.5, '$y[t_k]$')"
            ]
          },
          "metadata": {},
          "execution_count": 39
        },
        {
          "output_type": "display_data",
          "data": {
            "image/png": "[encoded data removed]",
            "text/plain": [
              "<Figure size 432x288 with 1 Axes>"
            ]
          },
          "metadata": {
            "needs_background": "light"
          }
        }
      ]
    },
    {
      "cell_type": "markdown",
      "metadata": {
        "id": "W7BApRWrUP7S"
      },
      "source": [
        "- Se ilustra nuevamente el proceso de acondicionamiento cero y pendiente mediante utilizando una función senoidal\n",
        "\n",
        "$$x[t_k] = A \\sin[w_o t + \\phi]$$\n",
        "\n",
        "$$x[t_k] = A \\sin[2 \\pi F_o t] = A \\sin[2 \\pi t / T_o ]$$\n",
        "\n"
      ]
    },
    {
      "cell_type": "code",
      "metadata": {
        "id": "PkSh1s79SPfY",
        "colab": {
          "base_uri": "https://localhost:8080/",
          "height": 279
        },
        "outputId": "4213a4de-ccde-4e2e-a7a8-270e3b4b9ced"
      },
      "source": [
        "K = 500 # número de muestras\n",
        "T_o = 1/60 # periodo función sin\n",
        "A = 120 # amplitud\n",
        "ti = 0 #tiempo inicial\n",
        "tf = T_o #tiempo final\n",
        "tv = np.linspace(ti,tf,num=K) #vector de datos en tiempo\n",
        "xv = A * np.sin(2*np.pi*tv/T_o) #vector de amplitud\n",
        "\n",
        "plt.plot(tv,xv)\n",
        "plt.xlabel('tiempo [s]')\n",
        "plt.ylabel('$A\\sin[\\omega t_k]$')\n",
        "plt.show()"
      ],
      "execution_count": null,
      "outputs": [
        {
          "output_type": "display_data",
          "data": {
            "image/png": "[encoded data removed]",
            "text/plain": [
              "<Figure size 432x288 with 1 Axes>"
            ]
          },
          "metadata": {
            "needs_background": "light"
          }
        }
      ]
    },
    {
      "cell_type": "code",
      "metadata": {
        "id": "aOjjW9cqU1AO"
      },
      "source": [
        "yv = my_ceropen(xv,ymin=0,ymax=5) #se utiliza la función ya creada de cero y pendiente"
      ],
      "execution_count": null,
      "outputs": []
    },
    {
      "cell_type": "code",
      "metadata": {
        "id": "pXcD2X2RVvOZ",
        "colab": {
          "base_uri": "https://localhost:8080/",
          "height": 279
        },
        "outputId": "6ddefc6b-2d6f-4a16-ac81-2606b8fd837d"
      },
      "source": [
        "plt.subplot(121) # 1 = #filas, 2 = #columnas, 1 = # dibujo\n",
        "plt.plot(tv,xv,'r.')\n",
        "plt.xlabel('tiempo [s]')\n",
        "plt.ylabel('$x[t_k]$')\n",
        "\n",
        "plt.subplot(122)\n",
        "plt.plot(tv,yv,'b.')\n",
        "plt.xlabel('tiempo [s]')\n",
        "plt.ylabel('$y[t_k]$')\n",
        "plt.subplots_adjust(hspace=0.5,wspace=0.5)\n",
        "plt.show()"
      ],
      "execution_count": null,
      "outputs": [
        {
          "output_type": "display_data",
          "data": {
            "image/png": "[encoded data removed]",
            "text/plain": [
              "<Figure size 432x288 with 2 Axes>"
            ]
          },
          "metadata": {
            "needs_background": "light"
          }
        }
      ]
    },
    {
      "cell_type": "markdown",
      "metadata": {
        "id": "wCpVioS0VUz1"
      },
      "source": [
        "# Ejercicio:\n",
        "\n",
        "- Realice un ejemplo ilustrativo para la solución de un problema lineal por mínimos cuadrados de la forma:\n",
        "\n",
        "\n",
        "\\begin{aligned}\n",
        "\\begin{bmatrix}\n",
        "x_{11} & x_{12} & \\cdots & x_{1P} \\\\\n",
        "x_{21} & x_{22} & \\cdots & x_{2P} \\\\\n",
        "\\vdots & \\vdots & \\ddots & \\vdots\\\\\n",
        "x_{N1} & x_{N2} & \\cdots & x_{NP}\n",
        "\\end{bmatrix} & \\begin{bmatrix} w_1 \\\\ w_2 \\\\ \\vdots \\\\ w_P \\end{bmatrix} =& \\begin{bmatrix} y_1 \\\\ y_2 \\\\ \\vdots \\\\ y_N \\end{bmatrix} \n",
        "\\end{aligned}\n",
        "\n",
        "$$\\mathbf{X}\\mathbf{w} = \\mathbf{y}$$\n",
        "\n",
        "- Tal que:\n",
        "\n",
        "$$\\mathbf{w}^* = \\arg\\min_\\mathbf{w} \\|\\mathbf{y} - \\mathbf{X}\\mathbf{w}\\|^2_2$$\n",
        "\n",
        "en donde $\\mathbf{y} = \\mathbf{y}^* + \\mathbf{\\eta},$ con $\\mathbf{y}^*\\in \\mathbb{R}^N$ y $\\mathbf{\\eta}\\sim p(\\mathbf{\\eta})=\\mathcal{N}(\\mathbf{\\eta}|\\mathbf{\\mu}_\\eta,\\sigma^2_\\eta \\mathbf{I})$.\n",
        "\n",
        "- Consulte en qué consiste la solución por pseudoinversa y realice una implementación en numpy utilizando la descomposición en [valores singulares](https://numpy.org/doc/stable/reference/generated/numpy.linalg.svd.html) para $N=100$, $P=3$, $w_1=3.5$, $w_2=-0.5$, $w_3=10$, para una relación cuadrática entrada salida. Asumo ruido Gaussiano con $\\sigma^2_\\eta=5$ y $\\mu=-3$.\n",
        "\n",
        "- Qué estarategia propone para mitigar el efecto de la media del ruido (traslación en la estimación)?"
      ]
    },
    {
      "cell_type": "code",
      "metadata": {
        "id": "mIdCdgAyV0KV",
        "colab": {
          "base_uri": "https://localhost:8080/"
        },
        "outputId": "50c9f897-4a40-4695-dc67-824880aa3e89"
      },
      "source": [
        "#Ayuda de código:\n",
        "#Generación de datos\n",
        "N = 100 # numero de datos\n",
        "var = 5 # varianza del ruido\n",
        "mu = -30 #media del ruido\n",
        "w = np.array([3.5,-0.5,10]).reshape(-1,1) #cargas tipo vector columna\n",
        "eta = mu + np.sqrt(var)*np.random.randn(N)\n",
        "\n",
        "x = np.linspace(-5,5,N)\n",
        "Xm = np.c_[x[...,np.newaxis]**2,x.reshape(-1,1),np.ones((N,1))] #puede utilizar newaxis o reshape para formar columnas\n",
        "\n",
        "y = Xm.dot(w)\n",
        "yn = y + eta[...,np.newaxis]\n",
        "\n",
        "print(yn.shape,y.shape, Xm.shape, w.shape,eta.shape)\n",
        "\n",
        "\n"
      ],
      "execution_count": null,
      "outputs": [
        {
          "output_type": "stream",
          "name": "stdout",
          "text": [
            "(100, 1) (100, 1) (100, 3) (3, 1) (100,)\n"
          ]
        }
      ]
    },
    {
      "cell_type": "code",
      "metadata": {
        "colab": {
          "base_uri": "https://localhost:8080/",
          "height": 265
        },
        "id": "5gX3sB_UfQuC",
        "outputId": "7bd7d402-80e3-4072-b41e-ee6f1246df80"
      },
      "source": [
        "plt.plot(eta,label='Ruido',c='g')\n",
        "plt.plot(y,label='Salida objetivo',c='b')\n",
        "plt.plot(yn,label='Salida medida',c='r')\n",
        "plt.legend()\n",
        "plt.show()"
      ],
      "execution_count": null,
      "outputs": [
        {
          "output_type": "display_data",
          "data": {
            "image/png": "[encoded data removed]",
            "text/plain": [
              "<Figure size 432x288 with 1 Axes>"
            ]
          },
          "metadata": {
            "needs_background": "light"
          }
        }
      ]
    },
    {
      "cell_type": "code",
      "metadata": {
        "id": "Ael0I6RFhmNR",
        "colab": {
          "base_uri": "https://localhost:8080/"
        },
        "outputId": "612420a6-e998-4485-f235-18ed3c9297dd"
      },
      "source": [
        "pseudo = np.linalg.pinv(yn)\n",
        "print(pseudo)"
      ],
      "execution_count": null,
      "outputs": [
        {
          "output_type": "stream",
          "name": "stdout",
          "text": [
            "[[ 8.38004402e-04  8.09916390e-04  7.72993761e-04  7.49320860e-04\n",
            "   6.77517745e-04  6.54363101e-04  5.99268560e-04  6.15180157e-04\n",
            "   5.47668485e-04  4.43110363e-04  4.56875988e-04  4.00423068e-04\n",
            "   3.95080661e-04  3.16465776e-04  3.68233542e-04  3.40956325e-04\n",
            "   2.30576374e-04  2.48602365e-04  2.50690055e-04  1.64818586e-04\n",
            "   1.87277736e-04  1.07034628e-04  7.57858075e-05  1.10510409e-04\n",
            "   5.86587688e-05  3.92418137e-05  2.11613299e-05 -1.18358350e-05\n",
            "  -3.45648746e-05 -6.37043641e-05 -1.01094638e-04 -1.13483808e-04\n",
            "  -7.06379766e-05 -1.17069976e-04 -1.72024398e-04 -2.14501615e-04\n",
            "  -1.44297810e-04 -1.91214848e-04 -1.86571935e-04 -2.29657364e-04\n",
            "  -2.58694823e-04 -1.72661582e-04 -2.42823735e-04 -2.26778859e-04\n",
            "  -2.42674495e-04 -2.37357347e-04 -2.45547454e-04 -2.39238057e-04\n",
            "  -2.22495583e-04 -2.51167123e-04 -2.36941839e-04 -1.74625493e-04\n",
            "  -2.51602555e-04 -2.35474436e-04 -2.74457079e-04 -2.44604166e-04\n",
            "  -2.54605105e-04 -2.39048335e-04 -2.02472188e-04 -1.75768722e-04\n",
            "  -2.46584885e-04 -1.77259383e-04 -1.62387435e-04 -1.88409170e-04\n",
            "  -1.52270178e-04 -1.38138419e-04 -1.21261500e-04 -1.47847773e-04\n",
            "  -1.26212134e-04 -6.19038512e-05 -1.13127730e-04 -5.74801516e-05\n",
            "  -1.61929929e-05  1.16319760e-05 -1.42863237e-06  3.10639227e-05\n",
            "   9.58074748e-05  4.91242141e-05  5.99305074e-05  1.04979552e-04\n",
            "   1.58773980e-04  1.70194852e-04  2.19337959e-04  2.19166917e-04\n",
            "   2.38995909e-04  2.86248532e-04  3.43947835e-04  3.25600792e-04\n",
            "   3.77785040e-04  4.16595640e-04  4.66614320e-04  5.20927927e-04\n",
            "   4.91647638e-04  5.88661671e-04  6.17220003e-04  6.26079088e-04\n",
            "   6.71344886e-04  6.78143685e-04  7.25169351e-04  7.96484427e-04]]\n"
          ]
        }
      ]
    }
  ]
}